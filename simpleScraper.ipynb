{
 "cells": [
  {
   "cell_type": "code",
   "execution_count": 1,
   "metadata": {},
   "outputs": [],
   "source": [
    "def scrapeTitles():\n",
    "    import requests\n",
    "    import parser\n",
    "    from bs4 import BeautifulSoup\n",
    "    url = 'http://nytimes.com'\n",
    "    r = requests.get(url)\n",
    "    r_html = r.text\n",
    "    soup = BeautifulSoup(r_html,'html.parser')\n",
    "    titleStrings = []\n",
    "    for title in soup.find_all(class_=\"css-1vr57ge esl82me1\"):\n",
    "        new = str(title.contents[0])\n",
    "        new1 = new.replace('<span>','')\n",
    "        print(new1.replace('</span>',''))"
   ]
  },
  {
   "cell_type": "code",
   "execution_count": 2,
   "metadata": {},
   "outputs": [
    {
     "name": "stdout",
     "output_type": "stream",
     "text": [
      "Republicans Urge Embattled Incumbents to Speak Out on Trump\n",
      "‘How Did We End Up Here?’ Trump Wonders as the White House Soldiers On\n",
      "Anatomy of a Crime: Sex, Hush Money and a Trump Fixer’s Guilty Plea\n",
      "Betsy DeVos Eyes Federal Education Grants to Put Guns in Schools\n",
      "Urban Meyer Suspended by Ohio State for Three Games\n"
     ]
    }
   ],
   "source": [
    "scrapeTitles()"
   ]
  },
  {
   "cell_type": "code",
   "execution_count": null,
   "metadata": {},
   "outputs": [],
   "source": []
  }
 ],
 "metadata": {
  "kernelspec": {
   "display_name": "Python 3",
   "language": "python",
   "name": "python3"
  },
  "language_info": {
   "codemirror_mode": {
    "name": "ipython",
    "version": 3
   },
   "file_extension": ".py",
   "mimetype": "text/x-python",
   "name": "python",
   "nbconvert_exporter": "python",
   "pygments_lexer": "ipython3",
   "version": "3.6.4"
  }
 },
 "nbformat": 4,
 "nbformat_minor": 2
}
