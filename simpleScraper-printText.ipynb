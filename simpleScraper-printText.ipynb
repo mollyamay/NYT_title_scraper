{
 "cells": [
  {
   "cell_type": "code",
   "execution_count": 3,
   "metadata": {},
   "outputs": [],
   "source": [
    "def scrapeTitlesNYtimes():\n",
    "    '''returns all titles from the NYTimes home page'''\n",
    "    import requests\n",
    "    import parser\n",
    "    from bs4 import BeautifulSoup\n",
    "    url = 'http://nytimes.com'\n",
    "    r = requests.get(url)\n",
    "    r_html = r.text\n",
    "    soup = BeautifulSoup(r_html,'html.parser')\n",
    "    titleStrings = []\n",
    "    for title in soup.find_all(class_=\"css-1vr57ge esl82me1\"):\n",
    "        new = str(title.contents[0])\n",
    "        new1 = new.replace('<span>','')\n",
    "        print(new1.replace('</span>',''))"
   ]
  },
  {
   "cell_type": "code",
   "execution_count": 59,
   "metadata": {},
   "outputs": [],
   "source": [
    "def scrapeEconomistStory():\n",
    "    '''returns text from a specific story on the Economist\\s website'''\n",
    "    import requests\n",
    "    import parser\n",
    "    from bs4 import BeautifulSoup\n",
    "    url = \"https://www.economist.com/leaders/2018/08/23/is-donald-trump-above-the-law\"\n",
    "    r = requests.get(url)\n",
    "    print(r.status_code)\n",
    "    soup = BeautifulSoup(r.content,'html.parser')\n",
    "    text = list(soup.find_all(class_=\"blog-post__text\"))\n",
    "    #turns out this list has only one entry-- return that text\n",
    "    soup.find_all(class_=\"blog-post__text\")[0].get_text()"
   ]
  },
  {
   "cell_type": "code",
   "execution_count": 57,
   "metadata": {},
   "outputs": [],
   "source": [
    "def scrapeTitlesFromEconomist():\n",
    "    '''Returns all article titles fromt The Economist\\s homepage'''\n",
    "    import requests\n",
    "    import parser\n",
    "    from bs4 import BeautifulSoup\n",
    "    url = \"https://www.economist.com\"\n",
    "    r = requests.get(url)\n",
    "    print(r.status_code)\n",
    "    soup = BeautifulSoup(r.content,'html.parser')\n",
    "    text = list(soup.find_all(class_=\"flytitle-and-title__title\"))\n",
    "    [text[i].get_text() for i in range(0,len(text))]"
   ]
  },
  {
   "cell_type": "code",
   "execution_count": 48,
   "metadata": {},
   "outputs": [],
   "source": [
    "def scrapeWeather():\n",
    "    import requests\n",
    "    import parser\n",
    "    from bs4 import BeautifulSoup\n",
    "    url = \"https://forecast.weather.gov/MapClick.php?lat=37.7772&lon=-122.4168\"\n",
    "    r = requests.get(url)\n",
    "    soup = BeautifulSoup(r.content,'html.parser')\n",
    "    sevenDay = soup.find(id=\"seven-day-forecast\")\n",
    "    forecast = sevenDay.find_all(class_=\"tombstone-container\")\n",
    "    period = []\n",
    "    description = []\n",
    "    temp = []\n",
    "    short_desc = []\n",
    "    for i in range(0,len(forecast)):\n",
    "        forecast1 = forecast[i]\n",
    "        period1 = forecast1.find(class_=\"period-name\").get_text()\n",
    "        period.append(period1)\n",
    "        description1 = forecast1.find(class_=\"short-desc\").get_text()\n",
    "        description.append(description1)\n",
    "        temp1 = forecast1.find(class_=\"temp\").get_text()\n",
    "        temp.append(temp1)\n",
    "        img = forecast1.find(\"img\")\n",
    "        desc1 = img['title']\n",
    "        short_desc.append(desc1)\n",
    "    import pandas as pd\n",
    "    weather = pd.DataFrame({\n",
    "        \"periods\": period,\n",
    "        \"short_descs\": short_desc,\n",
    "        \"temperatures\": temp,\n",
    "        \"descriptions\": description\n",
    "    })\n",
    "    weather"
   ]
  },
  {
   "cell_type": "code",
   "execution_count": null,
   "metadata": {},
   "outputs": [],
   "source": []
  }
 ],
 "metadata": {
  "kernelspec": {
   "display_name": "Python 3",
   "language": "python",
   "name": "python3"
  },
  "language_info": {
   "codemirror_mode": {
    "name": "ipython",
    "version": 3
   },
   "file_extension": ".py",
   "mimetype": "text/x-python",
   "name": "python",
   "nbconvert_exporter": "python",
   "pygments_lexer": "ipython3",
   "version": "3.6.4"
  }
 },
 "nbformat": 4,
 "nbformat_minor": 2
}
